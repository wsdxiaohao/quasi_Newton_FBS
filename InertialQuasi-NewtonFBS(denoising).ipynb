{
 "cells": [
  {
   "cell_type": "code",
   "execution_count": 1,
   "metadata": {},
   "outputs": [],
   "source": [
    "import sys"
   ]
  },
  {
   "cell_type": "code",
   "execution_count": 2,
   "metadata": {},
   "outputs": [],
   "source": [
    "import numpy as np\n",
    "from myimgtools import *\n",
    "from mymath import *\n",
    "from PDHGtools import *"
   ]
  },
  {
   "cell_type": "markdown",
   "metadata": {},
   "source": [
    "# Optimization problem:                                                      \n",
    "\n",
    "# $$\\min_{x\\in\\mathbb{R}^n} G(x) + f*h(Kx)$$\n",
    "where $G(x)= 0.5|Ax-b|_2^2$, $h(x) = \\tfrac{1}{2}||Wx||_2^2 $ and $f(x)=\\mu||Kx||_{2,1}$.\n",
    "Here, $W$ is a diagnal matrix $diag(w_1,w_2,\\cdots,w_n)$ which is designed to detect edges by assigning weights on the pixels along edges in the image.\n",
    "                                                                            "
   ]
  },
  {
   "cell_type": "markdown",
   "metadata": {},
   "source": [
    "Infimal convolution problem can be converted into saddle point problem as the following.\n",
    "### Saddle point problem\n",
    "### $$\\min_x\\max_{y}<Kx,P> + G(x)-f^*(y) - h^*(y)$$\n",
    "Thus, we obtain corresponding inclusion formular for this problem:\n",
    "### Inclusion formular\n",
    "### $$T(z)+ Bz\\ni 0$$\n",
    "where $z=\\begin{pmatrix}x\\\\y\\end{pmatrix}$, $T:=\\begin{pmatrix} 0 &+K^*\\\\-K&\\partial f^*(.)\\end{pmatrix}$, $B:=\\begin{pmatrix} \\nabla G(\\cdot)& \\\\ 0 &\\nabla h^*(\\cdot)\\end{pmatrix}$.\n",
    "We assume $B$ is lipschitz and co-coercive.\n",
    "\n",
    "Let us consider using PDHG method with variable metric  identity $I$ plus lower rank matrix$Q=UU^T$ multiplied by $M$\n",
    "$$(M+Q)(z_{k+1}-z_{k})+T(z_{k+1})\\ni -Bz_k$$\n",
    "where $M$ is defined as following:\n",
    "$$M=\\begin{pmatrix}I/\\tau&-K^*\\\\-K&I/\\sigma\\end{pmatrix}$$"
   ]
  },
  {
   "cell_type": "markdown",
   "metadata": {},
   "source": [
    "### Load image"
   ]
  },
  {
   "cell_type": "code",
   "execution_count": 3,
   "metadata": {},
   "outputs": [
    {
     "name": "stdout",
     "output_type": "stream",
     "text": [
      "image dimensions:  (240, 240)\n"
     ]
    }
   ],
   "source": [
    "filename = \"Diana240\";\n",
    "img = mpimg.imread(\"data/\" + filename + \".png\"); \n",
    "img = rgb2gray(img);\n",
    "(ny,nx) = np.shape(img);\n",
    "print (\"image dimensions: \", np.shape(img))"
   ]
  },
  {
   "cell_type": "markdown",
   "metadata": {},
   "source": [
    "### Flatten image"
   ]
  },
  {
   "cell_type": "code",
   "execution_count": 4,
   "metadata": {},
   "outputs": [],
   "source": [
    "N = nx*ny\n",
    "oimg = img.reshape((N,1))"
   ]
  },
  {
   "cell_type": "markdown",
   "metadata": {},
   "source": [
    "### Construct blur kernel"
   ]
  },
  {
   "cell_type": "code",
   "execution_count": 5,
   "metadata": {},
   "outputs": [],
   "source": [
    "### construction of blurr kernel ###\n",
    "\n",
    "# filter of size 2*k+1\n",
    "k = 10;\n",
    "s = 2*k+1;\n",
    "filter = np.zeros((s,s));"
   ]
  },
  {
   "cell_type": "markdown",
   "metadata": {},
   "source": [
    "### Construct Gaussian kernel\n"
   ]
  },
  {
   "cell_type": "code",
   "execution_count": 6,
   "metadata": {},
   "outputs": [],
   "source": [
    "if False:   # construct Gaussian kernel\n",
    "    sigma = 25;\n",
    "\n",
    "    [dx,dy] = np.meshgrid(np.linspace(-k,k,s), np.linspace(-k,k,s));\n",
    "    filter = np.exp(-(dx**2+dy**2)/(2.0*sigma**2));\n",
    "    filter = filter/np.sum(filter);\n",
    "    print(filter)\n",
    "    plt.imshow(filter);\n",
    "    plt.show()"
   ]
  },
  {
   "cell_type": "code",
   "execution_count": 7,
   "metadata": {},
   "outputs": [],
   "source": [
    "if True: # read filter from image\n",
    "    filter_img = mpimg.imread(\"data/filter.png\");\n",
    "    s = np.shape(filter_img)[0];\n",
    "    filter = filter_img/np.sum(filter_img);"
   ]
  },
  {
   "cell_type": "code",
   "execution_count": 63,
   "metadata": {},
   "outputs": [],
   "source": [
    "A =1"
   ]
  },
  {
   "cell_type": "markdown",
   "metadata": {},
   "source": [
    "### Model blurry and noisy image "
   ]
  },
  {
   "cell_type": "code",
   "execution_count": 9,
   "metadata": {},
   "outputs": [],
   "source": [
    "def sp_noise(image,prob):\n",
    "    '''\n",
    "    Add salt and pepper noise to image\n",
    "    prob: Probability of the noise\n",
    "    '''\n",
    "    output = np.zeros(image.shape)\n",
    "    thres = 1 - prob \n",
    "    for i in range(image.shape[0]):\n",
    "        for j in range(image.shape[1]):\n",
    "            rdn = np.random.random()\n",
    "            \n",
    "            if rdn < prob:\n",
    "                output[i][j] = 0\n",
    "            else:\n",
    "                output[i][j] = image[i][j]\n",
    "    return output"
   ]
  },
  {
   "cell_type": "code",
   "execution_count": 64,
   "metadata": {},
   "outputs": [],
   "source": [
    "N = nx*ny;\n",
    "# reshape to fit dimension of optimization variable\n",
    "imgN=sp_noise(img,0.1)\n",
    "b = imgN.reshape((N,1)); \n",
    "b = img.reshape((N,1)); \n",
    "\n",
    "b=b+np.random.normal(0.0, 0.05, (N,1))\n",
    "\n",
    "\n",
    "b = b.flatten();"
   ]
  },
  {
   "cell_type": "markdown",
   "metadata": {},
   "source": [
    "### Ouput blurred image"
   ]
  },
  {
   "cell_type": "code",
   "execution_count": 11,
   "metadata": {},
   "outputs": [],
   "source": [
    "# write blurry image\n",
    "mpimg.imsave(filename + \"noise.png\", b.reshape(nx,ny), cmap=plt.cm.gray);"
   ]
  },
  {
   "cell_type": "code",
   "execution_count": null,
   "metadata": {},
   "outputs": [],
   "source": []
  },
  {
   "cell_type": "markdown",
   "metadata": {},
   "source": [
    "# Model"
   ]
  },
  {
   "cell_type": "code",
   "execution_count": 12,
   "metadata": {},
   "outputs": [],
   "source": [
    "################################################################################\n",
    "### Model ######################################################################\n",
    "\n",
    "K = make_derivatives2D(ny, nx);\n",
    "n = nx*ny\n",
    "\n",
    "D=K@oimg[:,0]\n",
    "N = len(D)\n",
    "n = int(N/2)\n",
    "D[0:n] = np.sqrt( D[0:n]**2+D[n:N]**2)\n",
    "D[n:N] = D[0:n]\n",
    "beta = 1\n",
    "W = np.exp(-beta*D)\n",
    "\n",
    "### Parameters\n",
    "tau=0.1\n",
    "sig=0.1\n",
    "mu=0.1\n",
    "OP={'K':K,'A':A,'b':b,'mu':mu}\n",
    "Metric={'Tau':tau,'Sigma':sig,'K':K}\n",
    "x=np.ones(K.shape[1])\n",
    "p=np.ones(K.shape[0])\n",
    "z={'x':x,'p':p}"
   ]
  },
  {
   "cell_type": "code",
   "execution_count": 15,
   "metadata": {},
   "outputs": [],
   "source": [
    "#test####\n",
    "num_x=len(x)\n",
    "num_p=len(p)\n",
    "\n",
    "\n",
    "\n",
    "Dx=np.ones(num_x)\n",
    "Dp=np.ones(num_p)\n",
    "U=np.zeros(num_x+num_p)\n",
    "#U=-1*np.ones(num_x+num_p)\n",
    "Ux=U[0:num_x]\n",
    "Up=U[num_x:num_x+num_p]\n",
    "Preconditioner={'U':U,'Dx':Dx,'Dp':Dp,'Ux':Ux,'Up':Up}"
   ]
  },
  {
   "cell_type": "code",
   "execution_count": 16,
   "metadata": {},
   "outputs": [],
   "source": [
    "output = {\n",
    "        'primal_sol': z['x'],\n",
    "        'dual_sol': z['p'],\n",
    "}"
   ]
  },
  {
   "cell_type": "code",
   "execution_count": null,
   "metadata": {},
   "outputs": [],
   "source": []
  },
  {
   "cell_type": "code",
   "execution_count": null,
   "metadata": {},
   "outputs": [],
   "source": []
  },
  {
   "cell_type": "markdown",
   "metadata": {},
   "source": [
    "### 0SR1\n"
   ]
  },
  {
   "cell_type": "code",
   "execution_count": 65,
   "metadata": {},
   "outputs": [],
   "source": [
    "def sr1(zkm1,zk,tau, gradkm1,gradk,itr,r0,U0,s,Sign):\n",
    "    xkm1 = zkm1['x']\n",
    "    pkm1 = zkm1['p']\n",
    "    xk = zk['x']\n",
    "    pk = zk['p']\n",
    "    \n",
    "    \n",
    "    ykx = gradk['x'] - gradkm1['x']\n",
    "    skx = xk - xkm1\n",
    "    yky = gradk['y'] - gradkm1['y']\n",
    "    sky = pk  - pkm1\n",
    "    \n",
    "    s = (ykx - 1/tau*skx - K.T@sky )@skx + (yky - 1/sig*sky- K@skx)@sky\n",
    "    if s>0:\n",
    "        Sign = 1\n",
    "    else:\n",
    "        Sign = -1\n",
    "        \n",
    "        \n",
    "    \n",
    "    s = np.sqrt(np.abs(s))\n",
    "    if s<10**(-6):\n",
    "        U = np.zeros(len(xk)+len(pk))\n",
    "        return U0,s,Sign,r0\n",
    "    \n",
    "    ux = (ykx - 1/tau*skx - K.T@sky)/s\n",
    "    up = (yky - 1/sig*sky - K@skx)/s\n",
    "    U = np.concatenate([ux,up]).flatten()\n",
    "    \n",
    "    \n",
    "    \n",
    "    #r = 1\n",
    "    if itr<500:\n",
    "        r = 2/(U@U)\n",
    "    else:\n",
    "        r = 2/(U@U)\n",
    "    U = np.sqrt(r)* U\n",
    "    \n",
    "    return  U, s, Sign ,r\n",
    "    \n",
    "    \n",
    "    \n",
    "    \n",
    "    \n",
    "    \n",
    "    \n",
    "    \n",
    "    \n",
    "    \n",
    "    "
   ]
  },
  {
   "cell_type": "code",
   "execution_count": 67,
   "metadata": {},
   "outputs": [],
   "source": [
    "def LfunctionMplusQ(Preconditioner,OP,Metric,z_init,a,Sign,gradk):\n",
    "    #Load parameters\n",
    "    Dx=Preconditioner['Dx']\n",
    "    \n",
    "    Dp=Preconditioner['Dp']\n",
    "    \n",
    "    z = z_init.copy()\n",
    "\n",
    "    U=Preconditioner['U']\n",
    "    \n",
    "    \n",
    "    ztemp={'x':z['x'],'p':z['p']}\n",
    "    if Sign==1:\n",
    "        zafter=PDHG_MQ(OP,Metric,ztemp,U*a,gradk)#U*a\n",
    "    else:\n",
    "        zafter=PDHG_MQ(OP,Metric,ztemp,-U*a,gradk)#U*a\n",
    "    \n",
    "    #####\n",
    "    x=zafter['x']\n",
    "    p=zafter['p']\n",
    "   \n",
    "    JTM=np.concatenate([x,p])\n",
    "    JTM.flatten()\n",
    "    D=np.concatenate([Dx,Dp])\n",
    "    D.flatten()\n",
    "    Zk = np.concatenate([z['x'],z['p']]).flatten()\n",
    "   \n",
    "    return    U.T.dot(JTM-Zk)-a #U.T.dot(1/D*JTM-U*a)-a"
   ]
  },
  {
   "cell_type": "code",
   "execution_count": 68,
   "metadata": {},
   "outputs": [],
   "source": [
    "def PDHG_MQ(OP,Metric,z_init,y,gradk):\n",
    "    \n",
    "    \n",
    "    #Load parameters\n",
    "    tau=Metric['Tau']\n",
    "    sig=Metric['Sigma']\n",
    "    mu=OP['mu']\n",
    "    K=OP['K']\n",
    "    A=OP['A']\n",
    "    b=OP['b']\n",
    "    gradkx = gradk['x']\n",
    "    gradky = gradk['y']\n",
    "    z = z_init.copy()\n",
    "    # initialization\n",
    "    x=z['x']\n",
    "    p=z['p']\n",
    "    \n",
    "    \n",
    "    num_x=len(x)\n",
    "    num_p=len(p)\n",
    "    \n",
    "    y1=y[0:num_x]\n",
    "    y2=y[num_x:(num_x+num_p)]\n",
    "    xk=x\n",
    "    pk=p\n",
    "\n",
    "    #PDHG\n",
    "    ######################        primal          ################################\n",
    "    xkp1 =(-tau*y1-tau*K.T.dot(pk) - tau*gradkx + xk)\n",
    "    \n",
    "    \n",
    "    \n",
    "    ######################        dual p          ################################\n",
    "    D=np.ones(num_p)\n",
    "    \n",
    "    p_temp=pk+sig*(K.dot(2*xkp1-xk))-sig*y2 - sig*gradky\n",
    "        \n",
    "    #prox_proj(p_temp)_onto_ball with radius mu\n",
    "    pkp1=prox_proj_ball(p_temp,mu)\n",
    "    \n",
    "   \n",
    "    zkp1={'x':xkp1,'p':pkp1}\n",
    "    return zkp1"
   ]
  },
  {
   "cell_type": "code",
   "execution_count": null,
   "metadata": {},
   "outputs": [],
   "source": []
  },
  {
   "cell_type": "markdown",
   "metadata": {},
   "source": [
    "The following uses NewtonMethod to solve rootfinding problem"
   ]
  },
  {
   "cell_type": "code",
   "execution_count": 45,
   "metadata": {},
   "outputs": [],
   "source": [
    "def MQRootfinding_N(Preconditioner,OP,Metric,z_init, Sign,gradk,tol):\n",
    "    maxiter =200\n",
    "    #load parameter\n",
    "    z = z_init.copy()\n",
    "    U = Preconditioner['U']\n",
    "    m = len(z['x'])\n",
    "    N = len(z['p'])\n",
    "    n=int((N+1)/2)\n",
    "    Ux = U[0:m]\n",
    "    Up = U[m:(N+m)]\n",
    "    tau=Metric['Tau']\n",
    "    sig=Metric['Sigma']\n",
    "    mu=OP['mu']\n",
    "    K=OP['K']\n",
    "    xk = z['x']\n",
    "    pk = z['p']\n",
    "    gradkx = gradk['x']\n",
    "    gradky = gradk['y']\n",
    "    \n",
    "    \n",
    "    #################\n",
    "    \n",
    "    a = 0\n",
    "    k = 0\n",
    "    val_L =  LfunctionMplusQ(Preconditioner,OP,Metric,z,a,Sign,gradk)\n",
    "    a = MQRootfinding(Preconditioner,OP,Metric,z_init, Sign,gradk,tol)\n",
    "    while k<maxiter:\n",
    "        \n",
    "        #compute current value curr \n",
    "        xkp1 = (-tau*Ux*a-tau*K.T.dot(pk) - tau*gradkx + xk)\n",
    "        p_temp = pk + sig*(K.dot(2*xkp1-xk))- sig*gradky - sig*Up*a\n",
    "        #compute UPU\n",
    "        pnorm=np.sqrt(p_temp[:n]**2+p_temp[n:N]**2)\n",
    "        p_norm = np.append(pnorm,pnorm)\n",
    "        P = (p_norm<=mu) + (p_norm>mu)*(1/(p_norm+(p_norm<=mu)) - p_temp**2/(p_norm+(p_norm<=mu))**3)\n",
    "        Dshift = (pnorm>mu)*(-(p_temp[:n]*p_temp[n:N])/(pnorm+(pnorm<=mu))**3)\n",
    "        #hessian\n",
    "        Hessian = -Sign*tau*Ux@Ux-1 -Sign*sig*Up@(P*Up)- 2*Sign*sig*Up[0:n]@(Dshift*Up[n:N])\n",
    "        \n",
    "        k = k+1\n",
    "        \n",
    "        if np.abs(Hessian)>tol:\n",
    "            a = a - val_L/Hessian\n",
    "            val_L =  LfunctionMplusQ(Preconditioner,OP,Metric,z,a,Sign,gradk)\n",
    "            \n",
    "            if np.abs(val_L)<tol:\n",
    "                return a\n",
    "    \n",
    "    return a"
   ]
  },
  {
   "cell_type": "markdown",
   "metadata": {},
   "source": [
    "The following uses Bisection to solve rootfinding problem"
   ]
  },
  {
   "cell_type": "code",
   "execution_count": 46,
   "metadata": {},
   "outputs": [],
   "source": [
    "def MQRootfinding(Preconditioner,OP,Metric,z_init, Sign,gradk,tol):\n",
    "    # we are going to use bisection method to solve L=0 when r=1\n",
    "    #nonzeroL    = find( abs(L) > 100*np.finfo(float).eps );\n",
    "    \n",
    "    maxit=5\n",
    "    \n",
    "    #Load parameters\n",
    "    U=Preconditioner['U']\n",
    "    \n",
    "    z = z_init.copy()\n",
    "    \n",
    "    x0=np.concatenate([z['x'],z['p']])\n",
    "    \n",
    "    \n",
    "    #before processing\n",
    "    \n",
    "    bound=100+norm(U)*(2*norm(x0))#+norm(ProxB_l1(0,tau,D)))# coRootfinding_r1(x,D,v,tau,maxit):upute the bound before using bisection method\n",
    "    k=0\n",
    "\n",
    "    if LfunctionMplusQ(Preconditioner,OP,Metric,z,bound,Sign,gradk) >0:\n",
    "        c1=-bound\n",
    "        c2=bound\n",
    "    else:\n",
    "        c1=bound\n",
    "        c2=-bound\n",
    "    ak=bound\n",
    "    \n",
    "    while k<maxit:\n",
    "        k=k+1\n",
    "        akm1=ak\n",
    "        ak=(c1+c2)/2\n",
    "        if LfunctionMplusQ(Preconditioner,OP,Metric,z,ak,Sign,gradk)>0:\n",
    "            c2=ak\n",
    "        else:\n",
    "            c1=ak\n",
    "        diff=np.abs(ak-akm1)\n",
    "        if (k>1)&(diff<tol):\n",
    "            return ak\n",
    "    return ak\n",
    "    "
   ]
  },
  {
   "cell_type": "code",
   "execution_count": 70,
   "metadata": {},
   "outputs": [],
   "source": [
    "def PDHG_MplusQ(Preconditioner, OP,Metric,z_initial,NumOfIter,check=10,Sign=1,condition=0,acc=0,rlx=0,nacc=0):\n",
    "    \n",
    "    ######## loading ###############\n",
    "    \n",
    "    U = Preconditioner['U']\n",
    "    z = z_initial.copy() \n",
    "    \n",
    "    r = 1\n",
    "    s = 0\n",
    "    Tau=Metric['Tau']\n",
    "    Sig=Metric['Sigma']\n",
    "    K=Metric['K']\n",
    "    num_x=len(Dx)\n",
    "    num_p=len(Dp)\n",
    "    u=U[0:num_x]\n",
    "    v=U[(num_x):(num_p+num_x)]\n",
    "    x=z['x']\n",
    "    p=z['p']\n",
    "    z0=z.copy()\n",
    "    z_1=z.copy()\n",
    "    b = OP['b']\n",
    "    gradkx = z['x']-b\n",
    "    gradky = (1/W)*(1/W)*z['p']\n",
    "    gradk = {'x':gradkx,'y':gradky}\n",
    "    a = 0\n",
    "    alphak = 0\n",
    "    \n",
    "    \n",
    "    tol=1*np.finfo(float).eps\n",
    "    gap=cal_primal_gap_for_infimal_convolution(A,K,b,z['x'],z['p'],OP['mu'])\n",
    "    #cal_primal_dual_gap_ROF(A,K,b,z['x'],z['p'],OP['mu'])\n",
    "    GAP=[gap]\n",
    "    Alphak = []\n",
    "    print ('iter:start, gap: %f' %  gap)\n",
    "    ITER = 0\n",
    "    for iter in range(NumOfIter):\n",
    "        z_1=z0\n",
    "        z0=z.copy()\n",
    "        gradkm1 = gradk.copy()\n",
    "        ####### accelerate ######\n",
    "        if (acc==1)&(iter>0):\n",
    "            \n",
    "            \n",
    "            \n",
    "            #1. compute ||z_k -z_{k-1}||\n",
    "            square_of_diff= (z0['x'] - z_1['x'])@(z0['x'] - z_1['x'])+(z0['p'] - z_1['p'])@(z0['p'] - z_1['p'])\n",
    "            max_diff = np.max((np.sqrt(square_of_diff),square_of_diff))\n",
    "                \n",
    "            \n",
    "            #2. compute accelerate param: ac    \n",
    "\n",
    "            ac =  1/np.max(((iter)**(1.1)*(max_diff),(iter)**(1.1)))    \n",
    "            \n",
    "            #3. compute extrapolation\n",
    "            z['x'] = z0['x'] + ac*(z0['x'] - z_1['x'])\n",
    "            z['p'] = z0['p'] + ac*(z0['p'] - z_1['p'])\n",
    "        \n",
    "        #########################\n",
    "        #### update grad ########\n",
    "        gradk['x'] = z['x'] - b #A.T@(A@z['x']-b)\n",
    "        gradk['y'] = (1/W)*(1/W)*z['p']\n",
    "        #########################\n",
    "        # calculating a\n",
    "        tol=1*np.finfo(float).eps\n",
    "        a = MQRootfinding_N(Preconditioner,OP,Metric,z, Sign,gradk,tol)\n",
    "        \n",
    "        #a = MQRootfinding(Preconditioner,OP,Metric,z, Sign,gradk,tol)\n",
    "        val_L=LfunctionMplusQ(Preconditioner,OP,Metric,z,a,Sign,gradk)\n",
    "        \n",
    "        if(iter % check == 0):\n",
    "            print('L value=%f'%val_L) \n",
    "        \n",
    "        #########################\n",
    "        if Sign==-1:\n",
    "            y=-U*a#U*a\n",
    "        else:\n",
    "            y=U*a\n",
    "        #########################\n",
    "        z=PDHG_MQ(OP,Metric,z,y,gradk)\n",
    "        #### update grad ########\n",
    "        gradk['x'] = z['x']-b#A.T@(A@z['x']-b)\n",
    "        gradk['y'] = (1/W)*(1/W)*z['p']\n",
    "        ####### accelerate ######\n",
    "        if nacc=='nesterov':\n",
    "            z['x'] = z['x'] + (iter-2)/((iter+1))*(z['x'] - z0['x'])\n",
    "            z['p'] = z['p'] + (iter-2)/((iter+1))*(z['p'] - z0['p'])\n",
    "#        \n",
    "        ####### relaxation ######\n",
    "        if rlx == 1:\n",
    "            alphak,v_x,v_p = cal_param(z,z0,gradk,gradkm1, Metric)\n",
    "            z = relx_step(z,z0,alphak,v_x,v_p)\n",
    "            Alphak.append(alphak)\n",
    "        #########################################\n",
    "        #checking breaking condition\n",
    "        gap=cal_primal_gap_for_infimal_convolution(A,K,b,z['x'],z['p'],OP['mu'])\n",
    "        \n",
    "        if (iter % check == 0):\n",
    "            print ('iter: %d, gap: %f' % (iter, gap));\n",
    "            GAP.append(gap)\n",
    "            \n",
    "        if (np.abs(gap) < tol):\n",
    "            breakvalue = 1;\n",
    "            break;\n",
    "        \n",
    "        ############ updating U######################\n",
    "        \n",
    "        \n",
    "        if iter>2:\n",
    "            U,s,Sign,r = sr1(z0,z,tau, gradkm1,gradk,iter,r,U/r,s,Sign)\n",
    "            \n",
    "            if condition ==0:\n",
    "                U = 0*U\n",
    "            \n",
    "            \n",
    "            \n",
    "        \n",
    "        Preconditioner['U'] = U\n",
    "        \n",
    "        ######################################\n",
    "    #########################################\n",
    "    return z, GAP, Alphak"
   ]
  },
  {
   "cell_type": "markdown",
   "metadata": {},
   "source": [
    "\\begin{equation}\n",
    "\\begin{split}\n",
    "b_k&:=\\langle z_k-\\hat z_k,M_k(z_k-\\hat z_k)-B(z_k)+B(\\hat z_k) \\rangle\\\\\n",
    "a&:=\\vert\\vert M_k(z_k-\\hat z_k)+B(\\hat z_k)- B(z_k)\\vert\\vert ^2\\\\\n",
    "\\end{split}\n",
    "\\end{equation}\n",
    "$$v:=M_k(z_k-\\hat z_k)+B(\\hat z_k)- B(z_k)$$\n",
    "$$\\alpha_k = \\frac{b_k}{2a}$$"
   ]
  },
  {
   "cell_type": "code",
   "execution_count": 71,
   "metadata": {},
   "outputs": [],
   "source": [
    "def cal_param(zk,zkm1,gradk,gradkm1, Metric):\n",
    "    # compute the parameter $alpha_k$\n",
    "    #input:\n",
    "    #output: alpha_k\n",
    "    #load parameters \n",
    "    Tau = Metric['Tau']\n",
    "    Sig = Metric['Sigma']\n",
    "    K = Metric['K']\n",
    "    gradkx = gradk['x']\n",
    "    gradky = gradk['y']\n",
    "    gradkm1x = gradkm1['x']\n",
    "    gradkm1y = gradkm1['y']\n",
    "    #load input\n",
    "    xk = zk['x']\n",
    "    pk = zk['p']\n",
    "    xkm1 = zkm1['x']\n",
    "    pkm1 = zkm1['p']\n",
    "    # z-hat z\n",
    "    d_x = xkm1 - xk\n",
    "    d_p = pkm1 - pk\n",
    "    #compute vector v\n",
    "    v_x = 1/Tau * (d_x) - K.T@(d_p) + gradkx -gradkm1x\n",
    "    v_p = 1/Sig * (d_p) - K@(d_x)+ gradky -gradkm1y\n",
    "    #compute a \n",
    "    a = v_x@v_x + v_p@v_p\n",
    "    #compute b_k\n",
    "    bk = d_x@v_x + d_p@v_p\n",
    "    return bk/a,v_x,v_p"
   ]
  },
  {
   "cell_type": "code",
   "execution_count": 72,
   "metadata": {},
   "outputs": [],
   "source": [
    "def relx_step(zk,zkm1,alphak,v_x,v_p):\n",
    "    zk['x'] = zkm1['x'] - 0.5*alphak*(v_x)\n",
    "    zk['p'] = zkm1['p'] - 0.5*alphak*(v_p)\n",
    "    return zk"
   ]
  },
  {
   "cell_type": "code",
   "execution_count": 73,
   "metadata": {},
   "outputs": [],
   "source": [
    "def cal_primal_gap_for_infimal_convolution(A,K,b,x,p,mu):\n",
    "    #computing primal and dual gap for ROF When A=identity\n",
    "    #input: K matrix of derivative2D\n",
    "    #       b is the noisy image\n",
    "    #       x is the generated image\n",
    "    #       p is the dual variable\n",
    "    #       mu is the parameter before regularization term\n",
    "    n=b.shape[0]\n",
    "    res = x - b\n",
    "    \n",
    "    \n",
    "    \n",
    "    \n",
    "    Dx_infimal=infimal_conv_21(W,K,x,mu)\n",
    "    primal=0.5*(res).dot(res)+mu*Dx_infimal; \n",
    "   \n",
    "    #######\n",
    "    dual=-0.5*(K.T.dot(p)-b).dot(K.T.dot(p)-b)+0.5*b.dot(b)-(0.5)*(p/W).dot(p/W);\n",
    "    \n",
    "    #######\n",
    "    gap = primal-dual\n",
    "    return gap\n"
   ]
  },
  {
   "cell_type": "code",
   "execution_count": 74,
   "metadata": {},
   "outputs": [],
   "source": [
    "def infimal_conv_21(W,K,x,mu):\n",
    "    y_bar = K@x\n",
    "    N = len(y_bar)\n",
    "    n = int(N/2)\n",
    "    y_hat = np.sqrt(y_bar[0:n]**2 +  y_bar[n:N]**2)\n",
    "    w = W[0:n]**2/mu\n",
    "    infimal_conv_norm = ((y_hat - 1/w)<=0)@(0.5*w*y_hat**2) + ((y_hat - 1/w)>0)@(y_hat-1/(2*w))\n",
    "    return infimal_conv_norm"
   ]
  },
  {
   "cell_type": "code",
   "execution_count": 75,
   "metadata": {
    "scrolled": true
   },
   "outputs": [
    {
     "name": "stdout",
     "output_type": "stream",
     "text": [
      "iter:start, gap: 74866.777252\n",
      "L value=0.000000\n",
      "iter: 0, gap: 8513.076000\n",
      "L value=0.000000\n",
      "iter: 10, gap: 1013.059803\n",
      "L value=0.000000\n",
      "iter: 20, gap: 121.505866\n",
      "L value=0.000000\n",
      "iter: 30, gap: 14.643842\n",
      "L value=0.000000\n",
      "iter: 40, gap: 1.767747\n",
      "L value=0.000000\n",
      "iter: 50, gap: 0.213616\n",
      "L value=0.000000\n",
      "iter: 60, gap: 0.025830\n",
      "L value=0.000000\n",
      "iter: 70, gap: 0.003125\n",
      "L value=0.000000\n",
      "iter: 80, gap: 0.000378\n",
      "L value=0.000000\n",
      "iter: 90, gap: 0.000046\n"
     ]
    }
   ],
   "source": [
    "Zmq,GAP,_=PDHG_MplusQ(Preconditioner, OP,Metric,z,100,10,0,0,0)"
   ]
  },
  {
   "cell_type": "code",
   "execution_count": 52,
   "metadata": {},
   "outputs": [
    {
     "name": "stdout",
     "output_type": "stream",
     "text": [
      "iter:start, gap: 74866.777252\n",
      "L value=0.000000\n",
      "iter: 0, gap: 8513.076000\n",
      "L value=0.000000\n",
      "iter: 10, gap: 679.078795\n",
      "L value=0.000000\n",
      "iter: 20, gap: 45.432482\n",
      "L value=-0.000000\n",
      "iter: 30, gap: 2.888231\n",
      "L value=0.000000\n",
      "iter: 40, gap: 0.187177\n",
      "L value=0.000000\n",
      "iter: 50, gap: 0.012318\n",
      "L value=-0.000000\n",
      "iter: 60, gap: 0.000818\n",
      "L value=0.000000\n",
      "iter: 70, gap: 0.000055\n",
      "L value=0.000000\n",
      "iter: 80, gap: 0.000004\n",
      "L value=0.000000\n",
      "iter: 90, gap: 0.000000\n",
      "iter:start, gap: 74866.777252\n",
      "L value=0.000000\n",
      "iter: 0, gap: 28469.737007\n",
      "L value=0.000000\n",
      "iter: 10, gap: 3618.051801\n",
      "L value=0.000000\n",
      "iter: 20, gap: 979.210255\n",
      "L value=0.000000\n",
      "iter: 30, gap: 265.870615\n",
      "L value=0.000000\n",
      "iter: 40, gap: 72.451720\n",
      "L value=0.000000\n",
      "iter: 50, gap: 19.791229\n",
      "L value=-0.000000\n",
      "iter: 60, gap: 5.413849\n",
      "L value=-0.000000\n",
      "iter: 70, gap: 1.483236\n",
      "L value=0.000000\n",
      "iter: 80, gap: 0.407206\n",
      "L value=0.000000\n",
      "iter: 90, gap: 0.112162\n",
      "iter:start, gap: 74866.777252\n",
      "L value=0.000000\n",
      "iter: 0, gap: 10537.947878\n",
      "L value=0.000000\n",
      "iter: 10, gap: 994.836960\n",
      "L value=0.000000\n",
      "iter: 20, gap: 68.093919\n",
      "L value=0.000000\n",
      "iter: 30, gap: 4.677251\n",
      "L value=0.000000\n",
      "iter: 40, gap: 0.321731\n",
      "L value=0.000000\n",
      "iter: 50, gap: 0.022146\n",
      "L value=-0.000000\n",
      "iter: 60, gap: 0.001525\n",
      "L value=0.000000\n",
      "iter: 70, gap: 0.000105\n",
      "L value=0.000000\n",
      "iter: 80, gap: 0.000007\n",
      "L value=0.000000\n",
      "iter: 90, gap: 0.000000\n"
     ]
    }
   ],
   "source": [
    "Preconditioner['U']=np.zeros(num_x+num_p)\n",
    "maxiter = 100\n",
    "#Zmq2,GAP2,_=PDHG_MplusQ(Preconditioner, OP,Metric,z,maxiter,10,0,0,0) #original\n",
    "Zmq3,GAP3,_=PDHG_MplusQ(Preconditioner, OP,Metric,z,maxiter,10,0,1,1) #inertial+QN\n",
    "Zmq4,GAP4,Alphak=PDHG_MplusQ(Preconditioner, OP,Metric,z,maxiter,10,0,1,0,1)#relaxation\n",
    "Zmq5,GAP5,_=PDHG_MplusQ(Preconditioner, OP,Metric,z,maxiter,10,0,1,0) #QN\n",
    "#"
   ]
  },
  {
   "cell_type": "code",
   "execution_count": 62,
   "metadata": {},
   "outputs": [
    {
     "name": "stdout",
     "output_type": "stream",
     "text": [
      "iter:start, gap: 74866.777252\n",
      "L value=0.000000\n",
      "iter: 0, gap: 8513.076000\n",
      "L value=0.000000\n",
      "iter: 10, gap: 1008.617636\n",
      "L value=0.000000\n",
      "iter: 20, gap: 119.466627\n",
      "L value=0.000000\n",
      "iter: 30, gap: 13.726771\n",
      "L value=0.000000\n",
      "iter: 40, gap: 1.583608\n",
      "L value=0.000000\n",
      "iter: 50, gap: 0.184935\n",
      "L value=0.000000\n",
      "iter: 60, gap: 0.021760\n",
      "L value=0.000000\n",
      "iter: 70, gap: 0.002573\n",
      "L value=0.000000\n",
      "iter: 80, gap: 0.000305\n",
      "L value=0.000000\n",
      "iter: 90, gap: 0.000036\n"
     ]
    }
   ],
   "source": [
    "Preconditioner['U'] = np.zeros(num_x+num_p)\n",
    "Zmq7,GAP7,_=PDHG_MplusQ(Preconditioner, OP,Metric,z,maxiter,10,0,0,1)"
   ]
  },
  {
   "cell_type": "code",
   "execution_count": 55,
   "metadata": {},
   "outputs": [
    {
     "data": {
      "image/png": "[encoded data removed]",
      "text/plain": [
       "<Figure size 432x288 with 1 Axes>"
      ]
     },
     "metadata": {
      "needs_background": "light"
     },
     "output_type": "display_data"
    }
   ],
   "source": [
    "maxnum =int(100/10) #int(2000/10)#len(GAP2[0:300])\n",
    "x_axis=np.arange(0,100,10)+1\n",
    "standard_line = 10**5/(1.1**x_axis)\n",
    "GAP[-1] = 0.0 \n",
    "plt.loglog(x_axis,standard_line, '-',markevery=0.2, color='black', alpha=0.3, label='O(1/1.1^k)')\n",
    "plt.loglog(x_axis,(np.array(GAP[1:maxnum+1])-GAP[-1]), '^--',markevery=0.1, color='black', alpha=0.3, label='FBS')\n",
    "plt.loglog(x_axis,(np.array(GAP7[1:maxnum+1])-GAP[-1]), '*--',markevery=0.1, color='purple', alpha=0.3, label='IFBS')\n",
    "\n",
    "plt.loglog(x_axis,(np.array(GAP5[1:maxnum+1])-GAP[-1]), 'x--',markevery=0.1, color='blue', alpha=0.3, label='QN-FBS')\n",
    "\n",
    "plt.loglog(x_axis,(np.array(GAP4[1:maxnum+1])-GAP[-1]), 'D--',markevery=0.1, color='green', alpha=0.3, label='RQN-FBS')\n",
    "\n",
    "plt.loglog(x_axis,(np.array(GAP3[1:maxnum+1])-GAP[-1]), '+--', markevery=0.1,color='red', alpha=0.3, label='IQN-FBS')\n",
    "\n",
    "plt.xlabel('Iterations')\n",
    "plt.ylabel('Primal dual gap(log)')\n",
    "#plt.title('Convergence')\n",
    "plt.legend(title='Methods:')\n",
    "plt.savefig('Image-dnoise-infimal-concolution.pdf')\n",
    "plt.show()"
   ]
  },
  {
   "cell_type": "code",
   "execution_count": 28,
   "metadata": {},
   "outputs": [],
   "source": []
  },
  {
   "cell_type": "code",
   "execution_count": 29,
   "metadata": {},
   "outputs": [],
   "source": []
  },
  {
   "cell_type": "code",
   "execution_count": null,
   "metadata": {},
   "outputs": [],
   "source": []
  }
 ],
 "metadata": {
  "kernelspec": {
   "display_name": "Python 3",
   "language": "python",
   "name": "python3"
  },
  "language_info": {
   "codemirror_mode": {
    "name": "ipython",
    "version": 3
   },
   "file_extension": ".py",
   "mimetype": "text/x-python",
   "name": "python",
   "nbconvert_exporter": "python",
   "pygments_lexer": "ipython3",
   "version": "3.8.5"
  }
 },
 "nbformat": 4,
 "nbformat_minor": 4
}
